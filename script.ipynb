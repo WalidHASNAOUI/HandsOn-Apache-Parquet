{
 "cells": [
  {
   "cell_type": "markdown",
   "metadata": {},
   "source": [
    "# TD2 – A Hands-On Exploration of NoSQL Columnar Storage Using Apache Parquet\n"
   ]
  },
  {
   "cell_type": "code",
   "execution_count": 2,
   "metadata": {},
   "outputs": [],
   "source": [
    "import pyarrow as pa\n",
    "import pandas as pd\n",
    "import pyarrow.parquet as pq\n",
    "import datetime as dt"
   ]
  },
  {
   "cell_type": "markdown",
   "metadata": {},
   "source": [
    "### Create an PyArrow schema "
   ]
  },
  {
   "cell_type": "code",
   "execution_count": null,
   "metadata": {},
   "outputs": [
    {
     "data": {
      "text/plain": [
       "city: string\n",
       "measurement_time: timestamp[ms]\n",
       "temperature: float\n",
       "atmospheric_pressure: float"
      ]
     },
     "execution_count": 4,
     "metadata": {},
     "output_type": "execute_result"
    }
   ],
   "source": [
    "weather_schema = pa.schema([\n",
    "    ('city', pa.string()),\n",
    "    ('measurement_time', pa.timestamp('ms')),\n",
    "    ('temperature', pa.float32()),\n",
    "    ('atmospheric_pressure', pa.float32())\n",
    "])\n"
   ]
  },
  {
   "cell_type": "markdown",
   "metadata": {},
   "source": [
    "### Create a column data as PyArrow Arrays"
   ]
  },
  {
   "cell_type": "code",
   "execution_count": 7,
   "metadata": {},
   "outputs": [],
   "source": [
    "# Create PyArrow arrays for weather data\n",
    "cities = pa.array(['New York', 'London', 'Tokyo'], type=pa.string())\n",
    "measurement_times = pa.array([\n",
    "    dt.datetime(2022, 5, 1, 12, 0, 0),\n",
    "    dt.datetime(2022, 5, 1, 13, 0, 0),\n",
    "    dt.datetime(2022, 5, 1, 14, 0, 0)\n",
    "], type=pa.timestamp('ms'))\n",
    "\n",
    "temperatures = pa.array([20.5, 15.2, 23.1], type=pa.float32())\n",
    "pressures = pa.array([101.5, 99.2, 100.1], type=pa.float32())"
   ]
  },
  {
   "cell_type": "markdown",
   "metadata": {},
   "source": [
    "### Create a PyArrow RecordBatch "
   ]
  },
  {
   "cell_type": "code",
   "execution_count": 10,
   "metadata": {},
   "outputs": [
    {
     "data": {
      "text/plain": [
       "pyarrow.RecordBatch\n",
       "city: string\n",
       "measurement_time: timestamp[ms]\n",
       "temperature: float\n",
       "atmospheric_pressure: float\n",
       "----\n",
       "city: [\"New York\",\"London\",\"Tokyo\"]\n",
       "measurement_time: [2022-05-01 12:00:00.000,2022-05-01 13:00:00.000,2022-05-01 14:00:00.000]\n",
       "temperature: [20.5,15.2,23.1]\n",
       "atmospheric_pressure: [101.5,99.2,100.1]"
      ]
     },
     "execution_count": 10,
     "metadata": {},
     "output_type": "execute_result"
    }
   ],
   "source": [
    "batch = pa.RecordBatch.from_arrays(\n",
    "    [cities, measurement_times, temperatures, pressures],\n",
    "    names=weather_schema.names\n",
    ")\n",
    "\n",
    "batch"
   ]
  },
  {
   "cell_type": "markdown",
   "metadata": {},
   "source": [
    "### Convert the RecordBatch into a PyArrow Table"
   ]
  },
  {
   "cell_type": "code",
   "execution_count": 12,
   "metadata": {},
   "outputs": [
    {
     "data": {
      "text/plain": [
       "pyarrow.Table\n",
       "city: string\n",
       "measurement_time: timestamp[ms]\n",
       "temperature: float\n",
       "atmospheric_pressure: float\n",
       "----\n",
       "city: [[\"New York\",\"London\",\"Tokyo\"]]\n",
       "measurement_time: [[2022-05-01 12:00:00.000,2022-05-01 13:00:00.000,2022-05-01 14:00:00.000]]\n",
       "temperature: [[20.5,15.2,23.1]]\n",
       "atmospheric_pressure: [[101.5,99.2,100.1]]"
      ]
     },
     "execution_count": 12,
     "metadata": {},
     "output_type": "execute_result"
    }
   ],
   "source": [
    "table = pa.Table.from_batches([batch])\n",
    "\n",
    "table"
   ]
  },
  {
   "cell_type": "markdown",
   "metadata": {},
   "source": [
    "### Save the table in Parquet Format"
   ]
  },
  {
   "cell_type": "code",
   "execution_count": 13,
   "metadata": {},
   "outputs": [],
   "source": [
    "pq.write_table(table, 'weather.parquet')"
   ]
  },
  {
   "cell_type": "markdown",
   "metadata": {},
   "source": [
    "### Read columns from the Parquet file "
   ]
  },
  {
   "cell_type": "code",
   "execution_count": 15,
   "metadata": {},
   "outputs": [
    {
     "data": {
      "text/plain": [
       "pyarrow.Table\n",
       "city: string\n",
       "temperature: float\n",
       "----\n",
       "city: [[\"New York\",\"London\",\"Tokyo\"]]\n",
       "temperature: [[20.5,15.2,23.1]]"
      ]
     },
     "execution_count": 15,
     "metadata": {},
     "output_type": "execute_result"
    }
   ],
   "source": [
    "ctemp = pq.read_table('weather.parquet', columns=['city', 'temperature'])\n",
    "\n",
    "ctemp"
   ]
  },
  {
   "cell_type": "code",
   "execution_count": 16,
   "metadata": {},
   "outputs": [
    {
     "name": "stdout",
     "output_type": "stream",
     "text": [
      "       city  temperature\n",
      "0  New York         20.5\n",
      "1    London         15.2\n",
      "2     Tokyo         23.1\n"
     ]
    }
   ],
   "source": [
    "df_ctemp = ctemp.to_pandas()\n",
    "print(df_ctemp)"
   ]
  },
  {
   "cell_type": "markdown",
   "metadata": {},
   "source": [
    "### Import vente-produit-2016.csv file \n"
   ]
  },
  {
   "cell_type": "code",
   "execution_count": 23,
   "metadata": {},
   "outputs": [
    {
     "name": "stdout",
     "output_type": "stream",
     "text": [
      "(81524, 6)\n"
     ]
    }
   ],
   "source": [
    "df = pd.read_csv('vente-produit-2016virgule.csv')\n",
    "print(df.shape)"
   ]
  },
  {
   "cell_type": "code",
   "execution_count": 25,
   "metadata": {},
   "outputs": [
    {
     "data": {
      "text/html": [
       "<div>\n",
       "<style scoped>\n",
       "    .dataframe tbody tr th:only-of-type {\n",
       "        vertical-align: middle;\n",
       "    }\n",
       "\n",
       "    .dataframe tbody tr th {\n",
       "        vertical-align: top;\n",
       "    }\n",
       "\n",
       "    .dataframe thead th {\n",
       "        text-align: right;\n",
       "    }\n",
       "</style>\n",
       "<table border=\"1\" class=\"dataframe\">\n",
       "  <thead>\n",
       "    <tr style=\"text-align: right;\">\n",
       "      <th></th>\n",
       "      <th>annee</th>\n",
       "      <th>departement</th>\n",
       "      <th>amm</th>\n",
       "      <th>quantite_produit</th>\n",
       "      <th>conditionnement</th>\n",
       "      <th>eaj</th>\n",
       "    </tr>\n",
       "  </thead>\n",
       "  <tbody>\n",
       "    <tr>\n",
       "      <th>0</th>\n",
       "      <td>2016</td>\n",
       "      <td>AIN</td>\n",
       "      <td>1030003</td>\n",
       "      <td>4.3</td>\n",
       "      <td>L</td>\n",
       "      <td>Oui</td>\n",
       "    </tr>\n",
       "    <tr>\n",
       "      <th>1</th>\n",
       "      <td>2016</td>\n",
       "      <td>AIN</td>\n",
       "      <td>2000003</td>\n",
       "      <td>6064.4</td>\n",
       "      <td>L</td>\n",
       "      <td>Non</td>\n",
       "    </tr>\n",
       "    <tr>\n",
       "      <th>2</th>\n",
       "      <td>2016</td>\n",
       "      <td>AIN</td>\n",
       "      <td>2000017</td>\n",
       "      <td>9.6</td>\n",
       "      <td>L</td>\n",
       "      <td>Oui</td>\n",
       "    </tr>\n",
       "    <tr>\n",
       "      <th>3</th>\n",
       "      <td>2016</td>\n",
       "      <td>AIN</td>\n",
       "      <td>2000018</td>\n",
       "      <td>12740.4</td>\n",
       "      <td>K</td>\n",
       "      <td>Non</td>\n",
       "    </tr>\n",
       "    <tr>\n",
       "      <th>4</th>\n",
       "      <td>2016</td>\n",
       "      <td>AIN</td>\n",
       "      <td>2000044</td>\n",
       "      <td>594.0</td>\n",
       "      <td>L</td>\n",
       "      <td>Non</td>\n",
       "    </tr>\n",
       "  </tbody>\n",
       "</table>\n",
       "</div>"
      ],
      "text/plain": [
       "   annee departement      amm  quantite_produit conditionnement  eaj\n",
       "0   2016         AIN  1030003               4.3               L  Oui\n",
       "1   2016         AIN  2000003            6064.4               L  Non\n",
       "2   2016         AIN  2000017               9.6               L  Oui\n",
       "3   2016         AIN  2000018           12740.4               K  Non\n",
       "4   2016         AIN  2000044             594.0               L  Non"
      ]
     },
     "execution_count": 25,
     "metadata": {},
     "output_type": "execute_result"
    }
   ],
   "source": [
    "df.head()"
   ]
  },
  {
   "cell_type": "markdown",
   "metadata": {},
   "source": [
    "### Compression of Parquet files "
   ]
  },
  {
   "cell_type": "code",
   "execution_count": 26,
   "metadata": {},
   "outputs": [],
   "source": [
    "# Convert your Pandas DataFrame to an Arrow Table\n",
    "table_vente = pa.Table.from_pandas(df)\n",
    "\n",
    "# 1) Snappy (default)\n",
    "pq.write_table(table_vente, 'vente_snappy.parquet')\n",
    "\n",
    "# 2) GZIP\n",
    "pq.write_table(table_vente, 'vente_gzip.parquet', compression='gzip')\n",
    "\n",
    "# 3) Brotli\n",
    "pq.write_table(table_vente, 'vente_brotli.parquet', compression='brotli')\n",
    "\n",
    "# 4) ZSTD\n",
    "pq.write_table(table_vente, 'vente_zstd.parquet', compression='zstd')\n",
    "\n",
    "# 5) LZ4\n",
    "pq.write_table(table_vente, 'vente_lz4.parquet', compression='lz4')\n",
    "\n",
    "# 6) No compression\n",
    "pq.write_table(table_vente, 'vente_none.parquet', compression='none')"
   ]
  },
  {
   "cell_type": "markdown",
   "metadata": {},
   "source": [
    "### Check the size for each generated compression type"
   ]
  },
  {
   "cell_type": "code",
   "execution_count": 27,
   "metadata": {},
   "outputs": [
    {
     "name": "stdout",
     "output_type": "stream",
     "text": [
      "vente_snappy.parquet:\n",
      "  - 401972 bytes\n",
      "  - 392.55 KB\n",
      "  - 0.38 MB\n",
      "\n",
      "vente_gzip.parquet:\n",
      "  - 299743 bytes\n",
      "  - 292.72 KB\n",
      "  - 0.29 MB\n",
      "\n",
      "vente_brotli.parquet:\n",
      "  - 288537 bytes\n",
      "  - 281.77 KB\n",
      "  - 0.28 MB\n",
      "\n",
      "vente_zstd.parquet:\n",
      "  - 318895 bytes\n",
      "  - 311.42 KB\n",
      "  - 0.30 MB\n",
      "\n",
      "vente_lz4.parquet:\n",
      "  - 372186 bytes\n",
      "  - 363.46 KB\n",
      "  - 0.35 MB\n",
      "\n",
      "vente_none.parquet:\n",
      "  - 467782 bytes\n",
      "  - 456.82 KB\n",
      "  - 0.45 MB\n",
      "\n"
     ]
    }
   ],
   "source": [
    "import os\n",
    "\n",
    "# List of Parquet file names\n",
    "parquet_files = [\n",
    "    'vente_snappy.parquet',\n",
    "    'vente_gzip.parquet',\n",
    "    'vente_brotli.parquet',\n",
    "    'vente_zstd.parquet',\n",
    "    'vente_lz4.parquet',\n",
    "    'vente_none.parquet'\n",
    "]\n",
    "\n",
    "for file_name in parquet_files:\n",
    "    # Get the file size in bytes\n",
    "    file_size_bytes = os.path.getsize(file_name)\n",
    "    # Convert bytes to kilobytes (KB) and megabytes (MB)\n",
    "    file_size_kb = file_size_bytes / 1024\n",
    "    file_size_mb = file_size_bytes / (1024 * 1024)\n",
    "\n",
    "    print(f\"{file_name}:\")\n",
    "    print(f\"  - {file_size_bytes} bytes\")\n",
    "    print(f\"  - {file_size_kb:.2f} KB\")\n",
    "    print(f\"  - {file_size_mb:.2f} MB\\n\")\n"
   ]
  },
  {
   "cell_type": "markdown",
   "metadata": {},
   "source": [
    "### Partitioning of data"
   ]
  },
  {
   "cell_type": "code",
   "execution_count": 28,
   "metadata": {},
   "outputs": [],
   "source": [
    "pq.write_to_dataset(\n",
    "    table_vente,\n",
    "    root_path='partitions',         # Folder where partitions will be created\n",
    "    partition_cols=['annee', 'departement']  # The columns to partition by\n",
    ")"
   ]
  }
 ],
 "metadata": {
  "kernelspec": {
   "display_name": ".venv",
   "language": "python",
   "name": "python3"
  },
  "language_info": {
   "codemirror_mode": {
    "name": "ipython",
    "version": 3
   },
   "file_extension": ".py",
   "mimetype": "text/x-python",
   "name": "python",
   "nbconvert_exporter": "python",
   "pygments_lexer": "ipython3",
   "version": "3.12.3"
  }
 },
 "nbformat": 4,
 "nbformat_minor": 2
}
